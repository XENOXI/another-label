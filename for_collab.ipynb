{
 "cells": [
  {
   "cell_type": "markdown",
   "metadata": {},
   "source": [
    "## Предобработка"
   ]
  },
  {
   "cell_type": "markdown",
   "metadata": {},
   "source": [
    "Установка необходимых библиотек."
   ]
  },
  {
   "cell_type": "code",
   "execution_count": null,
   "metadata": {},
   "outputs": [],
   "source": [
    "! pip update\n",
    "! pip install numpy pandas opencv-python ultralytics"
   ]
  },
  {
   "cell_type": "code",
   "execution_count": null,
   "metadata": {},
   "outputs": [],
   "source": [
    "import cv2\n",
    "from ultralytics import YOLO\n",
    "import pandas as pd\n",
    "# При необходимости дописать"
   ]
  },
  {
   "cell_type": "markdown",
   "metadata": {},
   "source": [
    "Функция для анализа видео."
   ]
  },
  {
   "cell_type": "code",
   "execution_count": null,
   "metadata": {},
   "outputs": [],
   "source": [
    "def detectLabels(videoPath):\n",
    "    model = YOLO(\"yolov8m.pt\")\n",
    "    video = cv2.VideoCapture(videoPath)\n",
    "    framesCount = int(video.get(cv2.CAP_PROP_FRAME_COUNT))\n",
    "    fps = int(video.get(cv2.CAP_PROP_FPS))\n",
    "    print(f\"Frames count: {framesCount}\")\\\n",
    "\n",
    "    labelsDict = {\"frame\": [], \"track_id\": [], \"x\": [], \"y\": [], \"h\": [], \"w\": [], \"label\": []}\n",
    "\n",
    "    for i in range(framesCount):\n",
    "        ret, frame = video.read()\n",
    "        \n",
    "        res = model.track(frame, persist=True)\n",
    "\n",
    "        if res[0].boxes.id is not None:  # Add this check\n",
    "            cls = res[0].boxes.cls.int().cpu().tolist()\n",
    "            boxes = res[0].boxes.xywh.cpu()\n",
    "            track_ids = res[0].boxes.id.int().cpu().tolist()\n",
    "        else:\n",
    "            cls = []\n",
    "            boxes = []\n",
    "            track_ids = []\n",
    "\n",
    "        for cl, box, track_id in zip(cls, boxes, track_ids):\n",
    "            if cl != 0:\n",
    "                continue\n",
    "\n",
    "            x, y, w, h = box\n",
    "\n",
    "            labelsDict['frame'].append(i)\n",
    "            labelsDict['track_id'].append(track_id)\n",
    "            labelsDict['x'].append(x.item())\n",
    "            labelsDict['y'].append(y.item())\n",
    "            labelsDict['w'].append(w.item())\n",
    "            labelsDict['h'].append(h.item())\n",
    "            labelsDict['label'].append(0)\n",
    "    \n",
    "    video.release()\n",
    "    return (framesCount, fps, labelsDict)"
   ]
  },
  {
   "cell_type": "code",
   "execution_count": null,
   "metadata": {},
   "outputs": [],
   "source": [
    "videoPath = \"\" # Введите путь до видеофайла\n",
    "csvPath = \"\" # Введите путь до выходного файла\n",
    "framesCount, fps, labelDict = detectLabels(videoPath)\n",
    "df = pd.DataFrame(labelDict)\n",
    "df.to_csv(csvPath)"
   ]
  }
 ],
 "metadata": {
  "language_info": {
   "name": "python"
  }
 },
 "nbformat": 4,
 "nbformat_minor": 2
}
